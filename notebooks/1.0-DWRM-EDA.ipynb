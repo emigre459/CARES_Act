{
 "cells": [
  {
   "cell_type": "markdown",
   "metadata": {},
   "source": [
    "# Purpose"
   ]
  },
  {
   "cell_type": "markdown",
   "metadata": {},
   "source": [
    "# Imports"
   ]
  },
  {
   "cell_type": "code",
   "execution_count": 5,
   "metadata": {},
   "outputs": [],
   "source": [
    "import pandas as pd\n",
    "import numpy as np\n",
    "import logging\n",
    "logger = logging.getLogger()\n",
    "\n",
    "import os\n",
    "os.chdir(\"..\") # go up to root\n",
    "\n",
    "import datetime as dt\n",
    "import pytz"
   ]
  },
  {
   "cell_type": "markdown",
   "metadata": {},
   "source": [
    "# SBA Paycheck Protection Program Data\n",
    "\n"
   ]
  },
  {
   "cell_type": "code",
   "execution_count": 9,
   "metadata": {},
   "outputs": [
    {
     "name": "stdout",
     "output_type": "stream",
     "text": [
      "'150k plus'\t\t Kentucky\t\t    Oklahoma\n",
      " Alabama\t\t Louisiana\t\t    Oregon\n",
      " Alaska\t\t\t Maine\t\t\t    Other\n",
      "'American Samoa'\t Maryland\t\t    Pennsylvania\n",
      " Arizona\t\t Massachusetts\t\t   'Puerto Rico'\n",
      " Arkansas\t\t Michigan\t\t   'Rhode Island'\n",
      " California\t\t Minnesota\t\t   'South Carolina'\n",
      " Colorado\t\t Mississippi\t\t   'South Dakota'\n",
      " Connecticut\t\t Missouri\t\t    Tennessee\n",
      " Delaware\t\t Montana\t\t    Texas\n",
      "'District of Columbia'\t Nebraska\t\t    Utah\n",
      " Florida\t\t Nevada\t\t\t    Vermont\n",
      " Georgia\t\t'New Hampshire'\t\t    Virginia\n",
      " Guam\t\t\t'New Jersey'\t\t   'Virgin Islands'\n",
      " Hawaii\t\t\t'New Mexico'\t\t    Washington\n",
      " Idaho\t\t\t'New York'\t\t   'West Virginia'\n",
      " Illinois\t\t'North Carolina'\t    Wisconsin\n",
      " Indiana\t\t'North Dakota'\t\t    Wyoming\n",
      " Iowa\t\t\t'Northen Mariana Islands'\n",
      " Kansas\t\t\t Ohio\n"
     ]
    }
   ],
   "source": [
    "!ls data/external/SBA\\ Data\\ By\\ State"
   ]
  },
  {
   "cell_type": "code",
   "execution_count": null,
   "metadata": {},
   "outputs": [],
   "source": []
  }
 ],
 "metadata": {
  "kernelspec": {
   "display_name": "Python [conda env:CARES_Act]",
   "language": "python",
   "name": "conda-env-CARES_Act-py"
  },
  "language_info": {
   "codemirror_mode": {
    "name": "ipython",
    "version": 3
   },
   "file_extension": ".py",
   "mimetype": "text/x-python",
   "name": "python",
   "nbconvert_exporter": "python",
   "pygments_lexer": "ipython3",
   "version": "3.7.6"
  }
 },
 "nbformat": 4,
 "nbformat_minor": 4
}
